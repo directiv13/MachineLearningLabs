{
 "cells": [
  {
   "cell_type": "code",
   "execution_count": 1,
   "id": "manufactured-enemy",
   "metadata": {},
   "outputs": [],
   "source": [
    "import numpy as np\n",
    "import matplotlib.pyplot as plt"
   ]
  },
  {
   "cell_type": "code",
   "execution_count": 1,
   "id": "running-robinson",
   "metadata": {},
   "outputs": [
    {
     "name": "stdout",
     "output_type": "stream",
     "text": [
      "Collecting matplotlib\n",
      "  Using cached matplotlib-3.3.4-cp39-cp39-win_amd64.whl (8.5 MB)\n",
      "Collecting pillow>=6.2.0\n"
     ]
    },
    {
     "name": "stderr",
     "output_type": "stream",
     "text": [
      "WARNING: You are using pip version 20.2.3; however, version 21.0.1 is available.\n",
      "You should consider upgrading via the 'c:\\users\\vladp\\appdata\\local\\programs\\python\\python39\\python.exe -m pip install --upgrade pip' command.\n"
     ]
    },
    {
     "name": "stdout",
     "output_type": "stream",
     "text": [
      "  Using cached Pillow-8.1.2-cp39-cp39-win_amd64.whl (2.2 MB)\n",
      "Collecting kiwisolver>=1.0.1\n",
      "  Using cached kiwisolver-1.3.1-cp39-cp39-win_amd64.whl (51 kB)\n",
      "Requirement already satisfied: pyparsing!=2.0.4,!=2.1.2,!=2.1.6,>=2.0.3 in c:\\users\\vladp\\appdata\\local\\programs\\python\\python39\\lib\\site-packages (from matplotlib) (2.4.7)\n",
      "Requirement already satisfied: numpy>=1.15 in c:\\users\\vladp\\appdata\\local\\programs\\python\\python39\\lib\\site-packages (from matplotlib) (1.20.1)\n",
      "Collecting cycler>=0.10\n",
      "  Using cached cycler-0.10.0-py2.py3-none-any.whl (6.5 kB)\n",
      "Requirement already satisfied: python-dateutil>=2.1 in c:\\users\\vladp\\appdata\\local\\programs\\python\\python39\\lib\\site-packages (from matplotlib) (2.8.1)\n",
      "Requirement already satisfied: six in c:\\users\\vladp\\appdata\\local\\programs\\python\\python39\\lib\\site-packages (from cycler>=0.10->matplotlib) (1.15.0)\n",
      "Installing collected packages: pillow, kiwisolver, cycler, matplotlib\n",
      "Successfully installed cycler-0.10.0 kiwisolver-1.3.1 matplotlib-3.3.4 pillow-8.1.2\n"
     ]
    }
   ],
   "source": [
    "!pip install matplotlib"
   ]
  },
  {
   "cell_type": "code",
   "execution_count": 2,
   "id": "certified-memorial",
   "metadata": {},
   "outputs": [],
   "source": [
    "data_test = np.genfromtxt('lab_1_test.csv', delimiter=',')\n",
    "data_train = np.genfromtxt('lab_1_train.csv', delimiter=',')"
   ]
  },
  {
   "cell_type": "code",
   "execution_count": null,
   "id": "automatic-salad",
   "metadata": {},
   "outputs": [],
   "source": [
    "plt.scatter(data_train[:,0], data_train[:,1])"
   ]
  },
  {
   "cell_type": "code",
   "execution_count": 3,
   "id": "clinical-matthew",
   "metadata": {},
   "outputs": [
    {
     "name": "stdout",
     "output_type": "stream",
     "text": [
      "               beta0                beta1                  MSE\n",
      "  -40.25934319107228   100.12010046695225    75256.12813890874\n",
      "   34.08099057458406    23.67944306486757    26299.52533210056\n",
      " -15.328824733349848    61.71674092325551   24906.412199829465\n",
      "  26.642485500217774    17.92376533453765    8315.145552909964\n",
      " -0.7987359793887236    38.47712221519951    8310.515435484751\n",
      "  22.920209776408708   13.326391334720633   2653.7906303930113\n",
      "   7.700269015854198    24.35827884000433    2799.515870839476\n",
      "  21.118715015710926    9.875519965903267    858.8629750267861\n",
      "   12.69025756900113   15.747852198107772     954.174847531607\n",
      "  20.290490700775997    7.384206078353335   284.14065695961364\n",
      "  15.631438511430165   10.477491368322156    330.5418395045645\n",
      "  19.941943914447258    5.632734237664587    97.69522116712245\n",
      "  17.371971752989094   7.2402707102527195   117.65032090833171\n",
      "  19.820300634919857    4.424700922141422    36.19623516077346\n",
      "  18.406199200335923   5.2452837653636895   44.182782785828785\n",
      "  19.799100145075904   3.6033329569751453   15.497412956797652\n",
      "  19.023282430942864    4.012012935875367   18.537313161984834\n",
      "  19.817159124586723   3.0510005620873697      8.3669592497293\n",
      "  19.393001208725753    3.247403720373321    9.478032008434367\n",
      "   19.84636427469285   2.6828047294930055   5.8476530102008555\n",
      "   19.61542980614736   2.7720748709909566    6.238818844482411\n",
      "  19.874896385156667   2.4390698546216223   4.9341227320303895\n",
      "  19.749792216569368   2.4758416827797456    5.066515403158942\n",
      "   19.89864062396763    2.278641822453337   4.5944540401369975\n",
      "  19.831280632519725    2.290799321558953     4.63719141266769\n",
      "  19.916890166640368    2.173541971752937    4.465242947400764\n",
      "  19.880893590253578   2.1749689897589026     4.47816416072912\n",
      "  19.930268263105898   2.1049574618311095    4.415115373362987\n",
      "   19.91121257139168   2.1023238605288963    4.418622856217414\n",
      "  19.939773963753293    2.060348088946802    4.395353188148524\n",
      "   19.92980705109566   2.0566836817418293    4.396107075978267\n",
      "   19.94638133518129   2.0314130403107233    4.387463696104596\n",
      "   19.94124967497094   2.0279644378863635    4.387514909146893\n",
      "  19.950900272514534   2.0126888967297525    4.384284254855048\n",
      "  19.948313762357152    2.009867022910309    4.384209124091433\n",
      "  19.953952943915166    2.000596582425501    4.382994244644635\n",
      "  19.952687859293228   1.9984483409394456    4.382927934884514\n",
      "   19.95599529591771    1.992800586464977    4.382468394830795\n",
      "   19.95540388481333   1.9912353689522737    4.382428194889943\n",
      "   19.95540388481333   1.9905671531461737    4.382420230696611\n",
      "   19.95540388481333   1.9902818813804941    4.382418779167049\n",
      "   19.95540388481333   1.9901600944075568    4.382418514615689\n",
      "   19.95540388481333    1.990108101646401    4.382418466399382\n"
     ]
    }
   ],
   "source": [
    "def mean_squared_error(beta0, beta1, x, y):\n",
    "    ff = np.array([beta0 + beta1 * x_i for x_i in x])\n",
    "    return np.sum(np.dot((y-ff).T, (y-ff)))\n",
    "\n",
    "# Часткова похідна по beta0\n",
    "def dbeta0(beta0, beta1, x, y):\n",
    "    ff = np.array([beta0 + beta1 * x_i for x_i in x])\n",
    "    return -2*(y - ff).sum()\n",
    "\n",
    "# Часткова похідна по beta1\n",
    "def dbeta1(beta0, beta1, x, y):\n",
    "    ff = np.array([beta0 + beta1 * x_i for x_i in x])\n",
    "    return -2 * np.dot((y - ff).T, x)\n",
    "\n",
    "\n",
    "lmb1 = 0.02\n",
    "lmb2 = 0.04\n",
    "\n",
    "beta0_i = 0\n",
    "beta1_i = 1\n",
    "beta0 = beta0_i - lmb1 * dbeta0(beta0_i, beta1_i, data_train[:, 0], data_train[:, 1])\n",
    "beta1 = beta1_i - lmb2 * dbeta1(beta0_i, beta1_i, data_train[:, 0], data_train[:, 1])\n",
    "\n",
    "print('{0:>20}'.format(\"beta0\"),'{0:>20}'.format(\"beta1\"),'{0:>20}'.format(\"MSE\"))\n",
    "while abs(beta0_i - beta0) > 0.0001 and abs(beta1_i - beta1) > 0.0001:\n",
    "    # Потрібно взяти за модулем |beta0_i - beta0|\n",
    "    if abs(beta0_i - beta0) > 0.001:\n",
    "        beta0_i = beta0\n",
    "        beta0 = beta0_i - lmb1 * dbeta0(beta0_i, beta1, data_train[:, 0], data_train[:, 1])\n",
    "    if abs(beta1_i - beta1) > 0.0001:\n",
    "        beta1_i = beta1\n",
    "        beta1 = beta1_i - lmb2 * dbeta1(beta0, beta1_i, data_train[:, 0], data_train[:, 1])\n",
    "    print('{0:>20}'.format(beta0),'{0:>20}'.format(beta1),'{0:>20}'.format(mean_squared_error(beta0,beta1,data_train[:,0],data_train[:,1])))"
   ]
  },
  {
   "cell_type": "markdown",
   "id": "genetic-phoenix",
   "metadata": {},
   "source": [
    "Функція втрат на тестових даних"
   ]
  },
  {
   "cell_type": "code",
   "execution_count": 4,
   "id": "satisfied-envelope",
   "metadata": {},
   "outputs": [
    {
     "name": "stdout",
     "output_type": "stream",
     "text": [
      "3.0078853446203038\n"
     ]
    }
   ],
   "source": [
    "print(mean_squared_error(beta0,beta1,data_test[:,0],data_test[:,1]))"
   ]
  },
  {
   "cell_type": "code",
   "execution_count": 5,
   "id": "imperial-visibility",
   "metadata": {},
   "outputs": [
    {
     "data": {
      "text/plain": [
       "[<matplotlib.lines.Line2D at 0x22261be4c40>]"
      ]
     },
     "execution_count": 5,
     "metadata": {},
     "output_type": "execute_result"
    },
    {
     "data": {
      "image/png": "[encoded data removed]",
      "text/plain": [
       "<Figure size 432x288 with 1 Axes>"
      ]
     },
     "metadata": {
      "needs_background": "light"
     },
     "output_type": "display_data"
    }
   ],
   "source": [
    "plt.scatter(data_train[:,0], data_train[:,1])\n",
    "plt.scatter(data_test[:,0], data_test[:,1], c='red')\n",
    "plt.plot(data_test[:,0],[beta0 + beta1 * x_i for x_i in data_test[:,0]])"
   ]
  },
  {
   "cell_type": "code",
   "execution_count": null,
   "id": "normal-metropolitan",
   "metadata": {},
   "outputs": [],
   "source": []
  }
 ],
 "metadata": {
  "kernelspec": {
   "display_name": "Python 3",
   "language": "python",
   "name": "python3"
  },
  "language_info": {
   "codemirror_mode": {
    "name": "ipython",
    "version": 3
   },
   "file_extension": ".py",
   "mimetype": "text/x-python",
   "name": "python",
   "nbconvert_exporter": "python",
   "pygments_lexer": "ipython3",
   "version": "3.9.1"
  }
 },
 "nbformat": 4,
 "nbformat_minor": 5
}
